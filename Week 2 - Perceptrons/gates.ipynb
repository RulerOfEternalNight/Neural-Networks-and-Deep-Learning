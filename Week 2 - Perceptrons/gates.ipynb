{
 "cells": [
  {
   "cell_type": "code",
   "execution_count": 370,
   "metadata": {},
   "outputs": [],
   "source": [
    "import numpy as np"
   ]
  },
  {
   "cell_type": "code",
   "execution_count": 371,
   "metadata": {},
   "outputs": [],
   "source": [
    "training_data_AND = [(np.array([0,0]), 0),\n",
    "                     (np.array([0,1]), 0),\n",
    "                     (np.array([1,0]), 0),\n",
    "                     (np.array([1,1]), 1)]"
   ]
  },
  {
   "cell_type": "code",
   "execution_count": 372,
   "metadata": {},
   "outputs": [],
   "source": [
    "def step_fn(x):\n",
    "    return 0 if x < 0 else 1"
   ]
  },
  {
   "cell_type": "code",
   "execution_count": 373,
   "metadata": {},
   "outputs": [
    {
     "data": {
      "text/plain": [
       "(0.05185090119215863, 0.7053220316966056, array([0.13046619, 0.15081459]))"
      ]
     },
     "execution_count": 373,
     "metadata": {},
     "output_type": "execute_result"
    }
   ],
   "source": [
    "learning_rate = np.random.random()\n",
    "bias = np.random.random()\n",
    "epochs = 1000\n",
    "weights = np.random.rand(2)\n",
    "learning_rate, bias, weights"
   ]
  },
  {
   "cell_type": "code",
   "execution_count": 382,
   "metadata": {},
   "outputs": [],
   "source": [
    "import random\n",
    "\n",
    "def learn(training_data, weights, epochs, bias):\n",
    "    \n",
    "    tot_err  = 0\n",
    "    print(\"itr\\t\",\"inputs\",'\\t',\"op\",'\\t',\"error\",'\\t','bias','\\t\\t\\t','tot_err')\n",
    "    \n",
    "    for i in range(epochs):\n",
    "        x, label = random.choice(training_data)\n",
    "        dot_product = np.dot(weights, x) + bias\n",
    "        error = label - step_fn(dot_product)\n",
    "        tot_err += error\n",
    "        if tot_err == 0:\n",
    "            return weights\n",
    "        weights += learning_rate * error * x\n",
    "        bias += learning_rate * error\n",
    "        print(i,'\\t', x,'\\t\\t', label,'\\t', error,'\\t', bias,'\\t', tot_err)\n",
    "    \n",
    "    return weights"
   ]
  },
  {
   "cell_type": "code",
   "execution_count": 383,
   "metadata": {},
   "outputs": [
    {
     "name": "stdout",
     "output_type": "stream",
     "text": [
      "itr\t inputs \t op \t error \t bias \t\t\t tot_err\n"
     ]
    }
   ],
   "source": [
    "weights = learn(training_data_AND, weights, epochs, bias)"
   ]
  },
  {
   "cell_type": "code",
   "execution_count": 384,
   "metadata": {},
   "outputs": [],
   "source": [
    "def check(weights):\n",
    "    inps = [    [0,0],\n",
    "                [0,1],\n",
    "                [1,0],\n",
    "                [1,1]\n",
    "            ]\n",
    "    for i in (inps):\n",
    "        print(i,\": \" ,int(np.dot(weights, i)), \" \", (np.dot(weights, i)) )"
   ]
  },
  {
   "cell_type": "code",
   "execution_count": 385,
   "metadata": {},
   "outputs": [
    {
     "name": "stdout",
     "output_type": "stream",
     "text": [
      "[0, 0] :  0   0.0\n",
      "[0, 1] :  0   0.48180644950777163\n",
      "[1, 0] :  0   0.5098764367850037\n",
      "[1, 1] :  0   0.9916828862927753\n"
     ]
    }
   ],
   "source": [
    "check(weights)"
   ]
  }
 ],
 "metadata": {
  "kernelspec": {
   "display_name": "base",
   "language": "python",
   "name": "python3"
  },
  "language_info": {
   "codemirror_mode": {
    "name": "ipython",
    "version": 3
   },
   "file_extension": ".py",
   "mimetype": "text/x-python",
   "name": "python",
   "nbconvert_exporter": "python",
   "pygments_lexer": "ipython3",
   "version": "3.8.8"
  },
  "orig_nbformat": 4,
  "vscode": {
   "interpreter": {
    "hash": "fb86c5e372bfe5d813b1cbc1070ec4aa4c75db0c83ff9e9751aacd15f8f7d009"
   }
  }
 },
 "nbformat": 4,
 "nbformat_minor": 2
}
