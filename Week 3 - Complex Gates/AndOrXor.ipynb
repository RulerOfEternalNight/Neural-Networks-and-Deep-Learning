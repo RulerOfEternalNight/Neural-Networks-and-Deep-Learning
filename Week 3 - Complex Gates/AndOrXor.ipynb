{
 "cells": [
  {
   "cell_type": "code",
   "execution_count": 69,
   "metadata": {},
   "outputs": [],
   "source": [
    "import numpy as np"
   ]
  },
  {
   "cell_type": "code",
   "execution_count": 70,
   "metadata": {},
   "outputs": [
    {
     "data": {
      "text/plain": [
       "[array([0, 0]), array([0, 1]), array([1, 0]), array([1, 1])]"
      ]
     },
     "execution_count": 70,
     "metadata": {},
     "output_type": "execute_result"
    }
   ],
   "source": [
    "X = [\n",
    "        np.array([0,0]),\n",
    "        np.array([0,1]),\n",
    "        np.array([1,0]),\n",
    "        np.array([1,1])\n",
    "    ]\n",
    "NX = [\n",
    "        np.array([0]),\n",
    "        np.array([1])\n",
    "    ]\n",
    "X"
   ]
  },
  {
   "cell_type": "code",
   "execution_count": 71,
   "metadata": {},
   "outputs": [],
   "source": [
    "def step_fn(x):\n",
    "    return 0 if x < 0 else 1"
   ]
  },
  {
   "cell_type": "code",
   "execution_count": 72,
   "metadata": {},
   "outputs": [],
   "source": [
    "Abias ,Aweights = -1.5, np.array([1,1])\n",
    "Obias ,Oweights = -0.5, np.array([1,1])\n",
    "Nbias ,Nweights = np.array([0.5]), -1"
   ]
  },
  {
   "cell_type": "code",
   "execution_count": 73,
   "metadata": {},
   "outputs": [],
   "source": [
    "def AND_OR(weights, bias, X):\n",
    "    res = np.array([])\n",
    "    for i in X:\n",
    "        u = np.dot(i,weights)+bias\n",
    "        res = np.append(step_fn(u),res)\n",
    "    return res"
   ]
  },
  {
   "cell_type": "code",
   "execution_count": 74,
   "metadata": {},
   "outputs": [],
   "source": [
    "def NOT(weights, bias, X):\n",
    "    res = np.array([])\n",
    "    for i in X:\n",
    "        u = np.dot(i,weights)+bias\n",
    "        res = np.append(step_fn(u),res)\n",
    "    return res"
   ]
  },
  {
   "cell_type": "code",
   "execution_count": 75,
   "metadata": {},
   "outputs": [
    {
     "data": {
      "text/plain": [
       "array([0., 1.])"
      ]
     },
     "execution_count": 75,
     "metadata": {},
     "output_type": "execute_result"
    }
   ],
   "source": [
    "ans = AND_OR(Aweights, Abias, X)\n",
    "ans = AND_OR(Oweights, Obias, X)\n",
    "ans = NOT(Nweights, Nbias, NX)\n",
    "ans"
   ]
  },
  {
   "cell_type": "code",
   "execution_count": 76,
   "metadata": {},
   "outputs": [
    {
     "data": {
      "text/plain": [
       "array([[1., 1.],\n",
       "       [1., 1.],\n",
       "       [1., 1.],\n",
       "       [0., 0.]])"
      ]
     },
     "execution_count": 76,
     "metadata": {},
     "output_type": "execute_result"
    }
   ],
   "source": [
    "SA = AND_OR(Aweights, Abias, X)\n",
    "SO = AND_OR(Oweights, Obias, X)\n",
    "\n",
    "SN = NOT(Nweights, Nbias, SA)\n",
    "\n",
    "X = np.vstack((SN, SO)).T\n",
    "\n",
    "# OP = AND_OR(Aweights, Abias, X[0])\n",
    "\n",
    "# ips = np.array([])\n",
    "# for i in X:\n",
    "#     ips = np.append(ips,np.array([i])\n",
    "# ips\n",
    "X"
   ]
  },
  {
   "cell_type": "code",
   "execution_count": 97,
   "metadata": {},
   "outputs": [
    {
     "data": {
      "text/plain": [
       "1.0"
      ]
     },
     "execution_count": 97,
     "metadata": {},
     "output_type": "execute_result"
    }
   ],
   "source": [
    "X[0][1]"
   ]
  },
  {
   "cell_type": "code",
   "execution_count": 91,
   "metadata": {},
   "outputs": [
    {
     "data": {
      "text/plain": [
       "array([[1., 1.],\n",
       "       [1., 1.],\n",
       "       [1., 1.],\n",
       "       [0., 0.]])"
      ]
     },
     "execution_count": 91,
     "metadata": {},
     "output_type": "execute_result"
    }
   ],
   "source": [
    "# ip1 = np.array([])\n",
    "# ip2 = np.array([])\n",
    "# for i in X:\n",
    "#     ip1 = np.concatenate((ip1, np.array( [i[0]] )))\n",
    "#     ip2 = np.concatenate((ip2, np.array( [i[1]] )))\n",
    "# ip1, ip2\n",
    "# fip = np.stack((ip1, ip2), axis=1)\n",
    "# fip"
   ]
  },
  {
   "cell_type": "code",
   "execution_count": 99,
   "metadata": {},
   "outputs": [
    {
     "data": {
      "text/plain": [
       "[array([1., 1.]), array([1., 1.]), array([1., 1.]), array([0., 0.])]"
      ]
     },
     "execution_count": 99,
     "metadata": {},
     "output_type": "execute_result"
    }
   ],
   "source": [
    "OX = [\n",
    "        np.array([X[0][0],X[0][1]]),\n",
    "        np.array([X[1][0],X[1][1]]),\n",
    "        np.array([X[2][0],X[2][1]]),\n",
    "        np.array([X[3][0],X[3][1]])\n",
    "    ]\n",
    "OX"
   ]
  },
  {
   "cell_type": "code",
   "execution_count": 100,
   "metadata": {},
   "outputs": [
    {
     "data": {
      "text/plain": [
       "array([0., 1., 1., 1.])"
      ]
     },
     "execution_count": 100,
     "metadata": {},
     "output_type": "execute_result"
    }
   ],
   "source": [
    "OP = AND_OR(Aweights, Abias, OX)\n",
    "OP"
   ]
  },
  {
   "cell_type": "code",
   "execution_count": null,
   "metadata": {},
   "outputs": [],
   "source": []
  }
 ],
 "metadata": {
  "kernelspec": {
   "display_name": "base",
   "language": "python",
   "name": "python3"
  },
  "language_info": {
   "codemirror_mode": {
    "name": "ipython",
    "version": 3
   },
   "file_extension": ".py",
   "mimetype": "text/x-python",
   "name": "python",
   "nbconvert_exporter": "python",
   "pygments_lexer": "ipython3",
   "version": "3.8.8"
  },
  "orig_nbformat": 4
 },
 "nbformat": 4,
 "nbformat_minor": 2
}
